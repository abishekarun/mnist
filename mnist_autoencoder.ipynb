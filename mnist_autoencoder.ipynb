{
  "nbformat": 4,
  "nbformat_minor": 0,
  "metadata": {
    "colab": {
      "name": "Untitled0.ipynb",
      "version": "0.3.2",
      "views": {},
      "default_view": {},
      "provenance": []
    },
    "kernelspec": {
      "name": "python3",
      "display_name": "Python 3"
    }
  },
  "cells": [
    {
      "metadata": {
        "id": "ki6xJ70JGL66",
        "colab_type": "code",
        "colab": {
          "autoexec": {
            "startup": false,
            "wait_interval": 0
          },
          "base_uri": "https://localhost:8080/",
          "height": 85
        },
        "outputId": "ecce5145-fd89-4e18-85e4-886c76c92740",
        "executionInfo": {
          "status": "ok",
          "timestamp": 1523207055580,
          "user_tz": 420,
          "elapsed": 2348,
          "user": {
            "displayName": "Arun Rajendran",
            "photoUrl": "https://lh3.googleusercontent.com/a/default-user=s128",
            "userId": "100710189298922321078"
          }
        }
      },
      "cell_type": "code",
      "source": [
        "%matplotlib inline\n",
        "\n",
        "import numpy as np\n",
        "import tensorflow as tf\n",
        "import matplotlib.pyplot as plt\n",
        "from tensorflow.examples.tutorials.mnist import input_data\n",
        "mnist = input_data.read_data_sets('MNIST_data', validation_size=0)"
      ],
      "execution_count": 1,
      "outputs": [
        {
          "output_type": "stream",
          "text": [
            "Extracting MNIST_data/train-images-idx3-ubyte.gz\n",
            "Extracting MNIST_data/train-labels-idx1-ubyte.gz\n",
            "Extracting MNIST_data/t10k-images-idx3-ubyte.gz\n",
            "Extracting MNIST_data/t10k-labels-idx1-ubyte.gz\n"
          ],
          "name": "stdout"
        }
      ]
    },
    {
      "metadata": {
        "id": "_L_NeNoPGT-G",
        "colab_type": "code",
        "colab": {
          "autoexec": {
            "startup": false,
            "wait_interval": 0
          },
          "base_uri": "https://localhost:8080/",
          "height": 282
        },
        "outputId": "a52f9894-1b4d-478d-edbf-2e8d9c1b651a",
        "executionInfo": {
          "status": "ok",
          "timestamp": 1523207056072,
          "user_tz": 420,
          "elapsed": 414,
          "user": {
            "displayName": "Arun Rajendran",
            "photoUrl": "https://lh3.googleusercontent.com/a/default-user=s128",
            "userId": "100710189298922321078"
          }
        }
      },
      "cell_type": "code",
      "source": [
        "img = mnist.train.images[2]\n",
        "plt.imshow(img.reshape((28, 28)), cmap='Greys_r')"
      ],
      "execution_count": 2,
      "outputs": [
        {
          "output_type": "execute_result",
          "data": {
            "text/plain": [
              "<matplotlib.image.AxesImage at 0x7f0aca9571d0>"
            ]
          },
          "metadata": {
            "tags": []
          },
          "execution_count": 2
        },
        {
          "output_type": "display_data",
          "data": {
            "image/png": "[encoded data removed]",
            "text/plain": [
              "<matplotlib.figure.Figure at 0x7f0ae89ce828>"
            ]
          },
          "metadata": {
            "tags": []
          }
        }
      ]
    },
    {
      "metadata": {
        "id": "97HWqo28GUUQ",
        "colab_type": "code",
        "colab": {
          "autoexec": {
            "startup": false,
            "wait_interval": 0
          }
        }
      },
      "cell_type": "code",
      "source": [
        "# Size of the encoding layer (the hidden layer)\n",
        "encoding_dim = 32\n",
        "\n",
        "image_size = mnist.train.images.shape[1]\n",
        "\n",
        "inputs_ = tf.placeholder(tf.float32, (None, image_size), name='inputs')\n",
        "targets_ = tf.placeholder(tf.float32, (None, image_size), name='targets')\n",
        "\n",
        "# Output of hidden layer\n",
        "encoded = tf.layers.dense(inputs_, encoding_dim, activation=tf.nn.relu)\n",
        "\n",
        "# Output layer logits\n",
        "logits = tf.layers.dense(encoded, image_size, activation=None)\n",
        "# Sigmoid output from\n",
        "decoded = tf.nn.sigmoid(logits, name='output')\n",
        "\n",
        "loss = tf.nn.sigmoid_cross_entropy_with_logits(labels=targets_, logits=logits)\n",
        "cost = tf.reduce_mean(loss)\n",
        "opt = tf.train.AdamOptimizer(0.001).minimize(cost)"
      ],
      "execution_count": 0,
      "outputs": []
    },
    {
      "metadata": {
        "id": "Kh5HnUmGGUQ9",
        "colab_type": "code",
        "colab": {
          "autoexec": {
            "startup": false,
            "wait_interval": 0
          }
        }
      },
      "cell_type": "code",
      "source": [
        "# Create the session\n",
        "sess = tf.Session()"
      ],
      "execution_count": 0,
      "outputs": []
    },
    {
      "metadata": {
        "id": "jX9LVgNLGUOW",
        "colab_type": "code",
        "colab": {
          "autoexec": {
            "startup": false,
            "wait_interval": 0
          },
          "base_uri": "https://localhost:8080/",
          "height": 357
        },
        "outputId": "fcbf4c12-84f2-4015-c25c-c3a31c7e974b",
        "executionInfo": {
          "status": "ok",
          "timestamp": 1523207666345,
          "user_tz": 420,
          "elapsed": 608040,
          "user": {
            "displayName": "Arun Rajendran",
            "photoUrl": "https://lh3.googleusercontent.com/a/default-user=s128",
            "userId": "100710189298922321078"
          }
        }
      },
      "cell_type": "code",
      "source": [
        "epochs = 200\n",
        "batch_size = 200\n",
        "sess.run(tf.global_variables_initializer())\n",
        "for e in range(epochs):\n",
        "    for ii in range(mnist.train.num_examples//batch_size):\n",
        "        batch = mnist.train.next_batch(batch_size)\n",
        "        feed = {inputs_: batch[0], targets_: batch[0]}\n",
        "        batch_cost, _ = sess.run([cost, opt], feed_dict=feed)\n",
        "    \n",
        "    if( (e+1) % 10 == 0):\n",
        "        print(\"Epoch: {}/{}...\".format(e+1, epochs),\n",
        "              \"Training loss: {:.4f}\".format(batch_cost))"
      ],
      "execution_count": 5,
      "outputs": [
        {
          "output_type": "stream",
          "text": [
            "Epoch: 10/200... Training loss: 0.0953\n",
            "Epoch: 20/200... Training loss: 0.0939\n",
            "Epoch: 30/200... Training loss: 0.0936\n",
            "Epoch: 40/200... Training loss: 0.0921\n",
            "Epoch: 50/200... Training loss: 0.0926\n",
            "Epoch: 60/200... Training loss: 0.0936\n",
            "Epoch: 70/200... Training loss: 0.0938\n",
            "Epoch: 80/200... Training loss: 0.0937\n",
            "Epoch: 90/200... Training loss: 0.0912\n",
            "Epoch: 100/200... Training loss: 0.0936\n",
            "Epoch: 110/200... Training loss: 0.0882\n",
            "Epoch: 120/200... Training loss: 0.0924\n",
            "Epoch: 130/200... Training loss: 0.0890\n",
            "Epoch: 140/200... Training loss: 0.0912\n",
            "Epoch: 150/200... Training loss: 0.0904\n",
            "Epoch: 160/200... Training loss: 0.0918\n",
            "Epoch: 170/200... Training loss: 0.0905\n",
            "Epoch: 180/200... Training loss: 0.0916\n",
            "Epoch: 190/200... Training loss: 0.0898\n",
            "Epoch: 200/200... Training loss: 0.0900\n"
          ],
          "name": "stdout"
        }
      ]
    },
    {
      "metadata": {
        "id": "Tm0WG51OGUKh",
        "colab_type": "code",
        "colab": {
          "autoexec": {
            "startup": false,
            "wait_interval": 0
          },
          "base_uri": "https://localhost:8080/",
          "height": 337
        },
        "outputId": "c95adccf-2d75-4123-9e51-160294cfb364",
        "executionInfo": {
          "status": "ok",
          "timestamp": 1523207667858,
          "user_tz": 420,
          "elapsed": 1451,
          "user": {
            "displayName": "Arun Rajendran",
            "photoUrl": "https://lh3.googleusercontent.com/a/default-user=s128",
            "userId": "100710189298922321078"
          }
        }
      },
      "cell_type": "code",
      "source": [
        "fig, axes = plt.subplots(nrows=2, ncols=10, sharex=True, sharey=True, figsize=(20,4))\n",
        "in_imgs = mnist.test.images[:10]\n",
        "reconstructed, compressed = sess.run([decoded, encoded], feed_dict={inputs_: in_imgs})\n",
        "\n",
        "for images, row in zip([in_imgs, reconstructed], axes):\n",
        "    for img, ax in zip(images, row):\n",
        "        ax.imshow(img.reshape((28, 28)), cmap='Greys_r')\n",
        "        ax.get_xaxis().set_visible(False)\n",
        "        ax.get_yaxis().set_visible(False)\n",
        "\n",
        "fig.tight_layout(pad=0.1)"
      ],
      "execution_count": 6,
      "outputs": [
        {
          "output_type": "display_data",
          "data": {
            "image/png": "[encoded data removed]",
            "text/plain": [
              "<matplotlib.figure.Figure at 0x7f0ad6db2630>"
            ]
          },
          "metadata": {
            "tags": []
          }
        }
      ]
    },
    {
      "metadata": {
        "id": "DmUeRJMyGUHy",
        "colab_type": "code",
        "colab": {
          "autoexec": {
            "startup": false,
            "wait_interval": 0
          }
        }
      },
      "cell_type": "code",
      "source": [
        "sess.close()"
      ],
      "execution_count": 0,
      "outputs": []
    }
  ]
}